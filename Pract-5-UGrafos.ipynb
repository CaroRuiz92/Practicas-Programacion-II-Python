{
 "cells": [
  {
   "cell_type": "markdown",
   "id": "4797de3b",
   "metadata": {},
   "source": [
    "## Construir grafos"
   ]
  },
  {
   "cell_type": "code",
   "execution_count": 2,
   "id": "aa255641",
   "metadata": {},
   "outputs": [],
   "source": [
    "import networkx as nx"
   ]
  },
  {
   "cell_type": "code",
   "execution_count": 3,
   "id": "70d8e852",
   "metadata": {},
   "outputs": [],
   "source": [
    "G = nx.Graph()"
   ]
  },
  {
   "cell_type": "code",
   "execution_count": 4,
   "id": "9206c59d",
   "metadata": {},
   "outputs": [],
   "source": [
    "G.add_nodes_from([1,2,3])"
   ]
  },
  {
   "cell_type": "code",
   "execution_count": 5,
   "id": "f130ffea",
   "metadata": {},
   "outputs": [],
   "source": [
    "G.add_edge(1, 2, weight=4)"
   ]
  },
  {
   "cell_type": "code",
   "execution_count": 6,
   "id": "60ed0691",
   "metadata": {},
   "outputs": [],
   "source": [
    "G.add_edge(2, 3, weight=2)"
   ]
  },
  {
   "cell_type": "code",
   "execution_count": 7,
   "id": "0ba96fad",
   "metadata": {},
   "outputs": [],
   "source": [
    "G.add_edge(1, 3, weight=3)"
   ]
  },
  {
   "cell_type": "code",
   "execution_count": 8,
   "id": "ac4a5e33",
   "metadata": {},
   "outputs": [],
   "source": [
    "G.add_node(4)"
   ]
  },
  {
   "cell_type": "code",
   "execution_count": 9,
   "id": "3dedf3c5",
   "metadata": {},
   "outputs": [],
   "source": [
    "G.remove_node(4)"
   ]
  },
  {
   "cell_type": "markdown",
   "id": "cd77f16b",
   "metadata": {},
   "source": [
    "### Imprimir info"
   ]
  },
  {
   "cell_type": "code",
   "execution_count": 10,
   "id": "eb084260",
   "metadata": {},
   "outputs": [
    {
     "data": {
      "text/plain": [
       "3"
      ]
     },
     "execution_count": 10,
     "metadata": {},
     "output_type": "execute_result"
    }
   ],
   "source": [
    "G.number_of_nodes()"
   ]
  },
  {
   "cell_type": "code",
   "execution_count": 11,
   "id": "916da4b8",
   "metadata": {},
   "outputs": [
    {
     "data": {
      "text/plain": [
       "3"
      ]
     },
     "execution_count": 11,
     "metadata": {},
     "output_type": "execute_result"
    }
   ],
   "source": [
    "G.number_of_edges()"
   ]
  },
  {
   "cell_type": "code",
   "execution_count": 12,
   "id": "e0e6d1b1",
   "metadata": {},
   "outputs": [
    {
     "name": "stdout",
     "output_type": "stream",
     "text": [
      "{1: 2, 2: 2, 3: 2}\n"
     ]
    }
   ],
   "source": [
    "print(dict(G.degree))"
   ]
  },
  {
   "cell_type": "code",
   "execution_count": 13,
   "id": "22e85224",
   "metadata": {},
   "outputs": [],
   "source": [
    "G.add_node(\"spam\")"
   ]
  },
  {
   "cell_type": "code",
   "execution_count": 14,
   "id": "d46607eb",
   "metadata": {},
   "outputs": [
    {
     "data": {
      "text/plain": [
       "2"
      ]
     },
     "execution_count": 14,
     "metadata": {},
     "output_type": "execute_result"
    }
   ],
   "source": [
    "len(list(nx.connected_components(G)))"
   ]
  },
  {
   "cell_type": "markdown",
   "id": "ebd3b0b7",
   "metadata": {},
   "source": [
    "### Visualización de grafos"
   ]
  },
  {
   "cell_type": "code",
   "execution_count": 15,
   "id": "3d297663",
   "metadata": {},
   "outputs": [],
   "source": [
    "import matplotlib.pyplot as plt"
   ]
  },
  {
   "cell_type": "code",
   "execution_count": 18,
   "id": "86adb887",
   "metadata": {},
   "outputs": [
    {
     "data": {
      "image/png": "[encoded data removed]",
      "text/plain": [
       "<Figure size 432x288 with 1 Axes>"
      ]
     },
     "metadata": {},
     "output_type": "display_data"
    }
   ],
   "source": [
    "nx.draw(G, with_labels=True, font_weight='bold')"
   ]
  },
  {
   "cell_type": "code",
   "execution_count": 17,
   "id": "22f6a815",
   "metadata": {},
   "outputs": [
    {
     "data": {
      "text/plain": [
       "{(1, 2): Text(0.03177439694612755, 0.2978692587466157, '4'),\n",
       " (1, 3): Text(-0.07299003305655616, 0.321996608026853, '3'),\n",
       " (2, 3): Text(-0.011405593240414798, 0.38013413322653145, '2')}"
      ]
     },
     "execution_count": 17,
     "metadata": {},
     "output_type": "execute_result"
    },
    {
     "data": {
      "image/png": "[encoded data removed]",
      "text/plain": [
       "<Figure size 432x288 with 1 Axes>"
      ]
     },
     "metadata": {},
     "output_type": "display_data"
    }
   ],
   "source": [
    "pos = nx.spring_layout(G)\n",
    "nx.draw(G, pos, with_labels=True, font_weight='bold')\n",
    "edge_labels = dict([((n1, n2), d['weight'])\n",
    "                   for n1, n2, d in G.edges(data=True)])\n",
    "nx.draw_networkx_edge_labels(G, pos=pos, edge_labels=edge_labels)"
   ]
  },
  {
   "cell_type": "code",
   "execution_count": null,
   "id": "70e0daf3",
   "metadata": {},
   "outputs": [],
   "source": []
  },
  {
   "cell_type": "markdown",
   "id": "b197b2f9",
   "metadata": {},
   "source": [
    "## Actividades:"
   ]
  },
  {
   "cell_type": "code",
   "execution_count": null,
   "id": "cf24c526",
   "metadata": {},
   "outputs": [],
   "source": []
  },
  {
   "cell_type": "code",
   "execution_count": null,
   "id": "82d9a323",
   "metadata": {},
   "outputs": [],
   "source": []
  },
  {
   "cell_type": "code",
   "execution_count": null,
   "id": "78f5f858",
   "metadata": {},
   "outputs": [],
   "source": []
  }
 ],
 "metadata": {
  "kernelspec": {
   "display_name": "Python 3 (ipykernel)",
   "language": "python",
   "name": "python3"
  },
  "language_info": {
   "codemirror_mode": {
    "name": "ipython",
    "version": 3
   },
   "file_extension": ".py",
   "mimetype": "text/x-python",
   "name": "python",
   "nbconvert_exporter": "python",
   "pygments_lexer": "ipython3",
   "version": "3.9.12"
  }
 },
 "nbformat": 4,
 "nbformat_minor": 5
}
